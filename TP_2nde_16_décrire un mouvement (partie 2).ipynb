{
 "cells": [
  {
   "cell_type": "markdown",
   "metadata": {},
   "source": [
    " <img src=\"logo.jpg\" alt=\"photo\"/> "
   ]
  },
  {
   "cell_type": "markdown",
   "metadata": {},
   "source": [
    "# TP 16 : Décrire le mouvement (partie 2) "
   ]
  },
  {
   "cell_type": "markdown",
   "metadata": {},
   "source": [
    "## 1- Tracé de la trajectoire du point M "
   ]
  },
  {
   "cell_type": "markdown",
   "metadata": {},
   "source": [
    "<img src=\"trotinette.jpg\" alt=\"photo\"/> "
   ]
  },
  {
   "cell_type": "markdown",
   "metadata": {},
   "source": [
    "Vous allez représenter les **positions successives** du point M modélisant le système (balle), dans le réferentiel (Ox,Oy).\n",
    "La fonction nuage de point est définie dans la cellule de code ci-dessous. "
   ]
  },
  {
   "cell_type": "code",
   "execution_count": 1,
   "metadata": {},
   "outputs": [],
   "source": [
    "import matplotlib.pyplot as plt\n",
    "\"\"\"\n",
    "Fonction générant le nuage de points ordonnée en fonction de abscisse\n",
    "Entrées : coordonnées de abscisse, coordonnées de ordonnée, titre abscisse, titre ordonnée, titre graphique\n",
    "Résultat : nuage de points ordonnée en fonction de abscisse \n",
    "\"\"\"\n",
    "def nuagedepoints(abscisse,ordonnee,abscissetitle,ordonneetitle,title):\n",
    "    plt.plot(abscisse, ordonnee, linestyle=\"none\" ,marker=\"x\" ,color=\"red\", markersize=\"10\", label=\"nuage de points\")\n",
    "                  # nuage de points,'none' points non reliés,'x' forme des points (o,-,+,s)\n",
    "                            # 'red' couleur (blue, green, cyan, magenta, yellow, black)\n",
    "                            # '10' taille des points\n",
    "                            # affiche la légende\n",
    "    plt.xlabel(abscissetitle)      # légende axe des abscisses\n",
    "    plt.ylabel(ordonneetitle)      # légende axe des ordonnées\n",
    "    plt.axis('equal')       # repère orthonormé\n",
    "    plt.title(title)        # affiche titre\n",
    "    plt.legend() #affiche les labels\n",
    "    plt.grid()"
   ]
  },
  {
   "cell_type": "markdown",
   "metadata": {},
   "source": [
    "<div class=\"alert alert-warning\">\n",
    "<b>Travail à faire : </b> Lire la description de la fonction nuagedepoints dans le code ci-dessus. Si on l'appelle en faisant dans le code principal : \n",
    "    \n",
    "    nuagedepoints(t,y,\"abscisse du point M\",\"temps en s\",\"trajectoire du point M\")\n",
    "    \n",
    "Va-t-on obtenir t en abscisse ou en ordonnée ?  \n",
    "</div>\n",
    "\n",
    "<details>\n",
    "<summary>Solution</summary>\n",
    "<p> La fonction est définie par :\n",
    "    \n",
    "     nuagedepoints(abscisse,ordonnee,abscissetitle,ordonneetitle,title)\n",
    "    \n",
    "donc t sera en abscisse. </p>\n",
    "</details>"
   ]
  },
  {
   "cell_type": "markdown",
   "metadata": {},
   "source": [
    "**Voici le code principal ci-dessous pour tracer la trajectoire du point M du TP 16** :"
   ]
  },
  {
   "cell_type": "code",
   "execution_count": null,
   "metadata": {},
   "outputs": [],
   "source": [
    "#code principal\n",
    "x = [0,1,2,3,4] # valeurs des abscisses (en m)\n",
    "y = [4,3.8,3.2,2.2,0.8]  # valeurs des ordonnées (en m)\n",
    "t = [0,0.5,1,1.5,2]  # valeurs des dates (en s)\n",
    "\n",
    "nuagedepoints(x,t,\"abscisse du point M\",\"temps en s\",\"trajectoire du point M\")\n",
    "plt.show() #affiche le graphique"
   ]
  },
  {
   "cell_type": "markdown",
   "metadata": {},
   "source": [
    "<div class=\"alert alert-warning\">\n",
    "<b>Travail à faire : </b> <br>Vérifier que la liste des coordonées (x,y) du code principal ci-dessus correspond bien aux points M de l'activité 1 du TP 16 <br>Exécuter le code. Observer le graphique tracé.<br>Modifier alors la fonction nuagedepoints dans le code principal afin d'obtenir la trajectoire y=f(x) de l'activité 1 du TP 16.<br>\n",
    "</div>\n",
    "\n",
    "<details>\n",
    "<summary>Aide</summary>\n",
    "<p>Vous devez compléter abscisse et ordonnée dans la fonction nuage de point. A vous de réfléchir : en abscisse doit-on mettre x, y, ou t ? idem en ordonnée. Pensez également à modifier si nécesaire les titres de l'abscisse ou de l'ordonnée</p>\n",
    "</details>\n",
    "\n",
    "<details>\n",
    "<summary>Solution</summary>\n",
    "<p> On doit mettre en abscisse : x et en ordonnée : y pour pouvoir tracer y=f(x).</p><p>On complète alors la fonction nuagedepoints ainsi : (x,y,\"abscisse du point M\",\"ordonnée du point M\",\"trajectoire du point M\") </p>\n",
    "</details>"
   ]
  },
  {
   "cell_type": "markdown",
   "metadata": {},
   "source": [
    "Pour que l'affichage soit plus \"beau\", on peut ajouter dans la fonction nuage de points quelques lignes de code afin de faire afficher les points Mi\n",
    "\n",
    "<div class=\"alert alert-warning\">\n",
    "<b>Travail à faire : </b>  Exécuter le code ci-dessous et observer\n",
    "</div>"
   ]
  },
  {
   "cell_type": "code",
   "execution_count": null,
   "metadata": {
    "scrolled": true
   },
   "outputs": [],
   "source": [
    "import matplotlib.pyplot as plt\n",
    "\"\"\"\n",
    "Fonction générant le nuage de points ordonnée en fonction de abscisse\n",
    "Entrées : coordonnées de abscisse, coordonnées de ordonnée, titre abscisse, titre ordonnée, titre graphique\n",
    "Résultat : nuage de points ordonnée en fonction de abscisse \n",
    "\"\"\"\n",
    "def nuagedepoints(abscisse,ordonnee,abscissetitle,ordonnetitle,title):\n",
    "    plt.plot(abscisse, ordonnee, linestyle=\"none\" ,marker=\"x\" ,color=\"red\", markersize=\"10\", label=\"nuage de points\")\n",
    "                  # nuage de points,'none' points non reliés,'x' forme des points (o,-,+,s)\n",
    "                            # 'red' couleur (blue, green, cyan, magenta, yellow, black)\n",
    "                            # '10' taille des points\n",
    "                            # affiche la légende\n",
    "    plt.xlabel(abscissetitle)      # légende axe des abscisses\n",
    "    plt.ylabel(ordonnetitle)      # légende axe des ordonnées\n",
    "    plt.axis('equal')       # repère orthonormé\n",
    "    plt.title(title)        # affiche titre\n",
    "    plt.legend() #affiche les labels\n",
    "    plt.grid()\n",
    "    for i in range(len(x)):\n",
    "        df=max(max(x)-min(x),max(y)-min(y))/20\n",
    "        numero=str(i)\n",
    "        table = str.maketrans({str(j):chr(0x2080 + j) for j in range(10)})\n",
    "        indice=numero.translate(table) \n",
    "        plt.text(x[i],y[i]+df,'M'+indice,color='black', horizontalalignment='center', verticalalignment='center')\n",
    "\n",
    "#code principal\n",
    "x = [0,1,2,3,4] # valeurs des abscisses (en m)\n",
    "y = [4,3.8,3.2,2.2,0.8]  # valeurs des ordonnées (en m)\n",
    "t = [0,0.5,1,1.5,2]  # valeurs des dates (en s)\n",
    "\n",
    "nuagedepoints(x,y,\"abscisse du point M\",\"ordonnée du point M\",\"trajectoire du point M\")\n",
    "\n",
    "plt.show() #affiche le graphique"
   ]
  },
  {
   "cell_type": "markdown",
   "metadata": {},
   "source": [
    "## 2 - Tracé des vecteurs vitesses"
   ]
  },
  {
   "cell_type": "markdown",
   "metadata": {},
   "source": [
    "Nous avons vu dans le TP 16 que les coordonnées des vecteurs $\\vec { v } _{ 1 }$ et $\\vec { v } _{ 3 }$ dans un repère (Ox,Oy) sont :\n",
    "$\\vec { v } _{ 1 }:(\\begin{matrix} \\frac { { x }_{ 2 }-{ x }_{ 1 } }{ { t }_{ 2 }-{ t }_{ 1 } } ; & \\frac { { y }_{ 2 }-{ y }_{ 1 } }{ { t }_{ 2 }-{ t }_{ 1 } } ) \\end{matrix}$ et $\\vec { v } _{ 3 }:(\\begin{matrix} \\frac { { x }_{ 4 }-{ x }_{ 3 } }{ { t }_{ 4 }-{ t }_{ 3 } } ; & \\frac { { y }_{ 4 }-{ y }_{ 3 } }{ { t }_{ 4 }-{ t }_{ 3 } } ) \\end{matrix} $<br>"
   ]
  },
  {
   "cell_type": "markdown",
   "metadata": {},
   "source": [
    "### Alors pour i entier quelconque, le vecteur vitesse $\\vec v_{i}$ dans le repère (Ox,Oy) a une coordonnée suivant l'axe des abscisses que l'on notera $v_{xi}$ et une coordonnée suivant l'axe des ordonnées que l'on notera $ v_{yi}$ : $\\vec { v } _{ i }:(\\begin{matrix} v_{xi}=\\frac { { x }_{ i+1 }-{ x }_{ i} }{ { t }_{ i+1 }-{ t }_{ i } } ; & v_{yi}=\\frac { { y }_{ i+1 }-{ y }_{ i } }{ { t }_{ i+1 }-{ t }_{ i } } ) \\end{matrix}$"
   ]
  },
  {
   "cell_type": "markdown",
   "metadata": {},
   "source": [
    " <img src=\"coordonne_vecteur.jpg\" alt=\"photo\"/> "
   ]
  },
  {
   "cell_type": "markdown",
   "metadata": {},
   "source": [
    "<br>Voici ci-dessous le code source Python de la fonction permettant de représenter le vecteur vitesse $\\vec v_{i}$ au point Mi de coordonnées (xi, yi).<br>\n",
    "\n",
    "<details>\n",
    "<summary>Rappel sur la fonction quiver</summary>\n",
    "<p>Pour représenter un vecteur, nous utilisons la fonction quiver. Elle permet de représenter au point de coordonnées (X,Y) un vecteur de coordonnées (U,V) avec la syntaxe : plt.quiver(X, Y, U, V)\n",
    "<br>Par exemple, plt.quiver (2,1,4,3) trace au point de coordonnées (2,1) un vecteur de coordonnées (4,3)<br> </p>\n",
    "</details>\n",
    "\n",
    "<div class=\"alert alert-warning\">\n",
    "<b>Travail à faire : </b> <br>- Dans la fonction vecteur_vitesse ci-dessous, il manque la ligne permettant de calculer la coordonnée $v_{yi}$ . En prenant modèle sur la ligne permettant de calculer $v_{xi}$ et en vous aidant des informations ci-dessus, compléter à l'endroit indiqué ---A compléter---. <br> - La fonction vecteur_vitesse est appelée dans le code principal pour i=1 : \n",
    "    \n",
    "    vecteur_vitesse (x,y,t,1)\n",
    "    \n",
    "Exécuter le code et vérifier que vous obtenez le vecteur vitesse $\\vec v_{1}$  (comparer à celui que vous avez tracé dans l'activité 1 du TP 16).<br> \n",
    "</div>"
   ]
  },
  {
   "cell_type": "code",
   "execution_count": null,
   "metadata": {},
   "outputs": [],
   "source": [
    "\"\"\"\n",
    "Fonction générant la représentation du vecteur vitesse instantanée approchée au point Mi de coordonnées (xi,yi)\n",
    "Entrées : coordonnées x du point M, coordonnées y du point M, dates t, point i\n",
    "Résultat : vecteur vitesse vi tracé au point Mi\n",
    "\"\"\"\n",
    "def vecteur_vitesse (x,y,t,i):\n",
    "    vxi=(x[i+1]-x[i])/(t[i+1]-t[i])\n",
    "    vyi= ---A compléter---\n",
    "    plt.quiver(x[i],y[i],vxi,vyi,scale_units='xy',angles='xy', scale=4) #pour agrandir la flèche diminuer la valeur de scale\n",
    "    \n",
    "#code principal\n",
    "nuagedepoints(x,y,\"abscisse du point M\",\"ordonnée du point M\",\"trajectoire du point M\")\n",
    "vecteur_vitesse (x,y,t,1)"
   ]
  },
  {
   "cell_type": "markdown",
   "metadata": {},
   "source": [
    "<div class=\"alert alert-warning\">\n",
    "<b>Travail à faire : </b> Ajouter une ligne dans le code principal précédent pour tracer le vecteur vitesse instantannée $\\vec v_{3}$  \n",
    "</div>\n",
    "    \n",
    "<details>\n",
    "<summary>Aide</summary>\n",
    "<p>Il faut ajouter une ligne avec la fonction vecteur_vitesse pour i=3. Aidez-vous de la ligne de code pour le vecteur $\\vec v_{1}$  </p>\n",
    "</details>"
   ]
  },
  {
   "cell_type": "markdown",
   "metadata": {},
   "source": [
    "<div class=\"alert alert-warning\">\n",
    "<b>Travail à faire : </b> Compléter le code ci-dessous avec une boucle for pour qu'automatiquement le code trace les vecteurs vitesses pour les points $M_{0}$ à $M_{3}$.\n",
    "</div>\n",
    "<details>\n",
    "<summary>Aide</summary>\n",
    "<p>i va varier de 0 à 3, utiliser range (4) </p>\n",
    "<p>ne pas oublier les : après range </p>\n",
    "<p>la fonction vecteur_vitesse sera noté vecteur_vitesse(x,y,t,i)  </p>\n",
    "</details>"
   ]
  },
  {
   "cell_type": "code",
   "execution_count": null,
   "metadata": {},
   "outputs": [],
   "source": [
    "nuagedepoints(x,y,\"abscisse du point M\",\"ordonnée du point M\",\"trajectoire du point M\")\n",
    "for i in ---A compléter--- \n",
    "    ---A compléter---"
   ]
  },
  {
   "cell_type": "markdown",
   "metadata": {},
   "source": [
    "<div class=\"alert alert-warning\">\n",
    "<b>Travail à faire : </b> Répondre aux questions 7 et 8 du TP à partir du graphique ci-dessus.\n",
    "</div>"
   ]
  },
  {
   "cell_type": "markdown",
   "metadata": {},
   "source": [
    "## 3 - Autre mouvement "
   ]
  },
  {
   "cell_type": "markdown",
   "metadata": {},
   "source": [
    " <img src=\"basket.jpg\" alt=\"photo\"/> "
   ]
  },
  {
   "cell_type": "markdown",
   "metadata": {},
   "source": [
    "On étudie maintenant le mouvement d'un ballon de basket que l'on modélise par un point $M$ (après qu'il ait quitté les mains du joueur et avant qu'il ait touché le panier) dans le référentiel Terrestre auquel on associe un repère (Ox,Oy) et un intervalle de temps $\\Delta t=0,04s$.\n",
    "<br>Les coordonnées du point $M$ sont entrées dans le code ci-dessous.<br>"
   ]
  },
  {
   "cell_type": "markdown",
   "metadata": {},
   "source": [
    "<div class=\"alert alert-warning\">\n",
    "<b>Travail à faire : </b> Compléter le code ci-dessous pour tracer la trajectoire y=f(x).\n",
    "</div>\n",
    "<details>\n",
    "<summary>Aide</summary>\n",
    "<p>Aidez-vous de la même question au début du TP pour le mouvement précédent. Bien étudier la fonction nuagedepoints.</p>\n",
    "</details>"
   ]
  },
  {
   "cell_type": "code",
   "execution_count": null,
   "metadata": {},
   "outputs": [],
   "source": [
    "#code principal\n",
    "\n",
    "x = [0.0, 0.18, 0.36, 0.54, 0.72, 0.9, 1.08, 1.26, 1.44, 1.62, 1.799, 1.979, 2.159, 2.339, 2.519, 2.699, 2.879, 3.059, 3.239, 3.419, 3.599, 3.779, 3.959, 4.139, 4.319, 4.499, 4.679] # valeurs des abscisses (en m)\n",
    "y = [2.24, 2.464, 2.673, 2.865, 3.042, 3.204, 3.349, 3.479, 3.594, 3.692, 3.775, 3.842, 3.894, 3.93, 3.95, 3.954, 3.943, 3.916, 3.873, 3.815, 3.741, 3.651, 3.545, 3.424, 3.287, 3.135, 2.966] # valeurs des ordonnées (en m)\n",
    "t = [0.0, 0.04, 0.08, 0.12, 0.16, 0.2, 0.24, 0.28, 0.32, 0.36, 0.4, 0.44, 0.48, 0.52, 0.56, 0.6, 0.64, 0.68, 0.72, 0.76, 0.8, 0.84, 0.88, 0.92, 0.96, 1.0, 1.04]  # valeurs des dates (en s)\n",
    "\n",
    "plt.rcParams['figure.figsize'] = [15, 15]# taille de l'affichage du graphique\n",
    "nuagedepoints(---A compléter---,---A compléter---,\"abscisse du point M\",\"ordonnée du point M\",\"trajectoire du point M\")\n"
   ]
  },
  {
   "cell_type": "markdown",
   "metadata": {},
   "source": [
    "<div class=\"alert alert-warning\">\n",
    "<b>Travail à faire : </b> Compléter le code ci-dessous pour tracer le vecteur vitesse instantannée approché au point $M_{1}$ de cette trajectoire.\n",
    "</div>"
   ]
  },
  {
   "cell_type": "code",
   "execution_count": null,
   "metadata": {},
   "outputs": [],
   "source": [
    "nuagedepoints(x,y,\"abscisse du point M\",\"ordonnée du point M\",\"trajectoire du point M\")\n",
    "---A compléter---"
   ]
  },
  {
   "cell_type": "markdown",
   "metadata": {},
   "source": [
    "<div class=\"alert alert-warning\">\n",
    "<b>Travail à faire : </b> Compléter le code ci-desous pour tracer le vecteur vitesse instantannée au point $M_{1}$, $M_{5}$ $M_{10}$ et $M_{14}$ de cette trajectoire.\n",
    "</div>"
   ]
  },
  {
   "cell_type": "code",
   "execution_count": null,
   "metadata": {},
   "outputs": [],
   "source": [
    "nuagedepoints(x,y,\"abscisse du point M\",\"ordonnée du point M\",\"trajectoire du point M\")\n",
    "---A compléter---\n",
    "---A compléter---\n",
    "---A compléter---\n",
    "---A compléter---"
   ]
  },
  {
   "cell_type": "markdown",
   "metadata": {},
   "source": [
    "<div class=\"alert alert-warning\">\n",
    "<b>Travail à faire : </b> Décrire la variation du vecteur vitesse à partir du graphique précédent. En déduire le type de mouvement de $M_{0}$ à $M_{15}$\n",
    "</div>"
   ]
  },
  {
   "cell_type": "markdown",
   "metadata": {},
   "source": [
    "<details>\n",
    "<summary>Solution</summary>\n",
    "<p> Le vecteur vitesse a une direction non constante, un sens constant et une norme non constante (elle diminue). </p>\n",
    "<p> Le mouvement de M0 à M15 est donc curviligne décéléré. </p>\n",
    "</details>"
   ]
  },
  {
   "cell_type": "markdown",
   "metadata": {},
   "source": [
    "<div class=\"alert alert-warning\">\n",
    "<b>Travail à faire : </b> Pour les plus rapide, écrire le code ci-dessous pour tracer les vecteurs vitesses au points $M_{16}$ , $M_{20}$ et $M_{24}$\n",
    "</div>"
   ]
  },
  {
   "cell_type": "code",
   "execution_count": null,
   "metadata": {},
   "outputs": [],
   "source": []
  }
 ],
 "metadata": {
  "kernelspec": {
   "display_name": "Python 3",
   "language": "python",
   "name": "python3"
  },
  "language_info": {
   "codemirror_mode": {
    "name": "ipython",
    "version": 3
   },
   "file_extension": ".py",
   "mimetype": "text/x-python",
   "name": "python",
   "nbconvert_exporter": "python",
   "pygments_lexer": "ipython3",
   "version": "3.7.4"
  }
 },
 "nbformat": 4,
 "nbformat_minor": 2
}
