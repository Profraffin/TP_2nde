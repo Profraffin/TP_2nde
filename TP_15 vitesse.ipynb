{
 "cells": [
  {
   "cell_type": "markdown",
   "metadata": {},
   "source": [
    "# A partir de l'activité 1 papier \"décrire un mouvement\""
   ]
  },
  {
   "cell_type": "markdown",
   "metadata": {},
   "source": [
    "### 1 - La chronophotographie et le tracé du vecteur vitesse au point M1 et M3"
   ]
  },
  {
   "cell_type": "markdown",
   "metadata": {},
   "source": [
    "Vous devez représenter les **positions successives** du point M modélisant le système (trotinette), dans le réferentiel (Ox,Oy). Les coordonnées du point M sont données sur l'activité papier.\n",
    "\n",
    "<div class=\"alert alert-warning\">\n",
    "<b>Travail à faire : </b> Compléter le code principal dans la cellule ci-dessous  pour tracer la chronophotographie du point M et exécuter le code\n",
    "</div>\n",
    "\n",
    "<details>\n",
    "<summary>Aide 1</summary>\n",
    "<p>Vous devez créer la liste des abscisses x=[0,2,5,9,14] du point M. Puis créer la liste des ordonnées y du point M</p>\n",
    "</details>\n",
    "<details>\n",
    "<summary>Aide 2</summary>\n",
    "<p>Pour tracer un graphique il faut utiliser l'instruction plt.plot(x,y) sans oublier d'ajouter plt.show() pour l'afficher</p>\n",
    "</details>"
   ]
  },
  {
   "cell_type": "code",
   "execution_count": null,
   "metadata": {},
   "outputs": [],
   "source": [
    "import matplotlib.pyplot as plt\n"
   ]
  },
  {
   "cell_type": "markdown",
   "metadata": {},
   "source": [
    "<div class=\"alert alert-warning\">\n",
    "<b>Travail à faire : </b> Modifier votre code dans la cellule ci-dessus pour mettre en forme votre chronophotographie (points représentés par des +, nom des axes, couleur, grille, ...) et exécuter le code\n",
    "</div>"
   ]
  },
  {
   "cell_type": "markdown",
   "metadata": {},
   "source": [
    "<div class=\"alert alert-warning\">\n",
    "<b>Travail à faire : </b> Modifier votre code dans la cellule ci-dessus pour ajouter le tracé du vecteur vitesse instantanée approchée du vecteur $\\vec { v } _{ 1 }$  et exécuter le code\n",
    "</div>\n",
    "<details>\n",
    "    \n",
    "<summary>Aide </summary>\n",
    "<p>Il faut utiliser l'instruction plt.quiver. Vous devez tracer un vecteur de coorodonnées (3,0) au point de coordonnées (2,1)</p>\n",
    "</details>"
   ]
  },
  {
   "cell_type": "markdown",
   "metadata": {},
   "source": [
    "<div class=\"alert alert-warning\">\n",
    "<b>Travail à faire : </b> Modifier votre code dans la cellule ci-dessus pour ajouter le tracé du vecteur vitesse instantanée approchée du vecteur $\\vec { v } _{ 3 }$  et exécuter le code\n",
    "</div>"
   ]
  },
  {
   "cell_type": "markdown",
   "metadata": {},
   "source": [
    "## 2 - Tracé automatique des vecteurs vitesses"
   ]
  },
  {
   "cell_type": "markdown",
   "metadata": {},
   "source": [
    "<div class=\"alert alert-warning\">\n",
    "<b>Travail à faire : </b> Dans la cellule ci-dessous, compléter le code en ajoutant une boucle for qui calcule la valeur des vitesses instantannées approchées des points M0 à M3. Faire afficher la liste des vitesses en utilisant l'instruction print(v).\n",
    "</div>\n",
    "<details>\n",
    "<summary>Aide 1 </summary>\n",
    "<p>Il faut créer une liste vide v=[].</p>\n",
    "</details>\n",
    "<details>\n",
    "<summary>Aide 2 </summary>\n",
    "<p>Il faut utiliser une boucle for pour i allant de 0 à 4.</p>\n",
    "</details>\n",
    "<details>\n",
    "<summary>Aide 3 </summary>\n",
    "<p>Il faut utiliser l'instrcution v.append pour ajouter des éléments à la liste vide</p>\n",
    "</details>"
   ]
  },
  {
   "cell_type": "code",
   "execution_count": null,
   "metadata": {},
   "outputs": [],
   "source": [
    "import matplotlib.pyplot as plt\n",
    "x=[0,2,5,9,14]\n",
    "y=[1,1,1,1,1]\n",
    "deltat=1\n",
    "plt.plot(x,y,\"rx--\")\n",
    "plt.title(\"chronophotographie\")\n",
    "plt.xlabel(\"abscisse\")\n",
    "plt.ylabel(\"ordonnée\")\n",
    "plt.axis('equal')\n",
    "plt.grid()\n",
    "\n",
    "\n",
    "\n",
    "\n"
   ]
  },
  {
   "cell_type": "markdown",
   "metadata": {},
   "source": [
    "<div class=\"alert alert-warning\">\n",
    "<b>Travail à faire : </b> Dans la cellule ci-dessus,  modifier votre code en ajoutant une boucle for pour que les vecteurs vitesses des points M0 à M3 se tracent.\n",
    "</div>\n",
    "\n",
    "<details>\n",
    "<summary>Aide 1 </summary>\n",
    "<p>Il faut utiliser une boucle for pour i allant de 0 à 4 (car le vecteur au point M4 ne peut pas être tracé).</p>\n",
    "</details>"
   ]
  },
  {
   "cell_type": "markdown",
   "metadata": {},
   "source": [
    "# A partir de l'activité 2 papier \"décrire un mouvement\""
   ]
  },
  {
   "cell_type": "markdown",
   "metadata": {},
   "source": [
    "<div class=\"alert alert-warning\">\n",
    "<b>Travail à faire : </b> Compléter le code dans la cellule ci-dessous (à l'endroit indiqué ---A compléter---) pour que les vecteurs vitesses se tracent en tous les points.\n",
    "</div>"
   ]
  },
  {
   "cell_type": "code",
   "execution_count": null,
   "metadata": {},
   "outputs": [],
   "source": [
    "import matplotlib.pyplot as plt\n",
    "\n",
    "x = [0,1,2,3,4] # valeurs des abscisses (en m)\n",
    "y = [4,3.8,3.2,2.2,0.8]  # valeurs des ordonnées (en m)\n",
    "t = [0,0.5,1,1.5,2]  # valeurs des dates (en s)\n",
    "\n",
    "plt.plot(x, y, linestyle=\"none\" ,marker=\"x\" ,color=\"red\", markersize=\"10\", label=\"nuage de points\")\n",
    "                  # nuage de points,'none' points non reliés,'x' forme des points (o,-,+,s)\n",
    "                            # 'red' couleur (blue, green, cyan, magenta, yellow, black)\n",
    "                            # '10' taille des points\n",
    "                            # affiche la légende\n",
    "plt.xlabel(\"abscisse\")      # légende axe des abscisses\n",
    "plt.ylabel(\"ordonnée\")      # légende axe des ordonnées\n",
    "plt.axis('equal')       # repère orthonormé\n",
    "plt.legend() #affiche les labels\n",
    "plt.rcParams['figure.figsize'] = [15, 15]# taille de l'affichage du graphique\n",
    "plt.grid()\n",
    "for i in range(len(x)):\n",
    "    df=max(max(x)-min(x),max(y)-min(y))/20\n",
    "    numero=str(i)\n",
    "    table = str.maketrans({str(j):chr(0x2080 + j) for j in range(10)})\n",
    "    indice=numero.translate(table) \n",
    "    plt.text(x[i],y[i]+df,'M'+indice,color='black', horizontalalignment='center', verticalalignment='center')\n",
    "\n",
    "for i in range (4) :\n",
    "    vxi=(x[i+1]-x[i])/(t[i+1]-t[i])\n",
    "    vyi=---A compléter----\n",
    "    plt.quiver(x[i],y[i],vxi,vyi,scale_units='xy',angles='xy', scale=1.5) #pour agrandir la flèche diminuer la valeur de scale\n",
    "      \n",
    "plt.show() #affiche le graphique"
   ]
  },
  {
   "cell_type": "markdown",
   "metadata": {},
   "source": [
    "## Autre mouvement"
   ]
  },
  {
   "cell_type": "markdown",
   "metadata": {},
   "source": [
    "On étudie maintenant le mouvement d'un ballon de basket que l'on modélise par un point $M$ (après qu'il ait quitté les mains du joueur et avant qu'il ait touché le panier) dans le référentiel Terrestre auquel on associe un repère (Ox,Oy) et un intervalle de temps $\\Delta t=0,04s$.\n",
    "<br>Les coordonnées du point $M$ sont entrées dans le code ci-dessous.<br>"
   ]
  },
  {
   "cell_type": "markdown",
   "metadata": {},
   "source": [
    "<div class=\"alert alert-warning\">\n",
    "<b>Travail à faire : </b> Compléter le code ci-dessous pour tracer la trajectoire y=f(x)et éxécuter le code.\n",
    "</div>"
   ]
  },
  {
   "cell_type": "code",
   "execution_count": null,
   "metadata": {},
   "outputs": [],
   "source": [
    "import matplotlib.pyplot as plt\n",
    "\n",
    "x = [0.0, 0.18, 0.36, 0.54, 0.72, 0.9, 1.08, 1.26, 1.44, 1.62, 1.799, 1.979, 2.159, 2.339, 2.519, 2.699, 2.879, 3.059, 3.239, 3.419, 3.599, 3.779, 3.959, 4.139, 4.319, 4.499, 4.679] # valeurs des abscisses (en m)\n",
    "y = [2.24, 2.464, 2.673, 2.865, 3.042, 3.204, 3.349, 3.479, 3.594, 3.692, 3.775, 3.842, 3.894, 3.93, 3.95, 3.954, 3.943, 3.916, 3.873, 3.815, 3.741, 3.651, 3.545, 3.424, 3.287, 3.135, 2.966] # valeurs des ordonnées (en m)\n",
    "t = [0.0, 0.04, 0.08, 0.12, 0.16, 0.2, 0.24, 0.28, 0.32, 0.36, 0.4, 0.44, 0.48, 0.52, 0.56, 0.6, 0.64, 0.68, 0.72, 0.76, 0.8, 0.84, 0.88, 0.92, 0.96, 1.0, 1.04]  # valeurs des dates (en s)\n",
    "\n"
   ]
  },
  {
   "cell_type": "markdown",
   "metadata": {},
   "source": [
    "<div class=\"alert alert-warning\">\n",
    "<b>Travail à faire : </b> Compléter le code ci-dessus pour tracer tous les vecteurs vitesses.\n",
    "</div>"
   ]
  }
 ],
 "metadata": {
  "kernelspec": {
   "display_name": "Python 3",
   "language": "python",
   "name": "python3"
  },
  "language_info": {
   "codemirror_mode": {
    "name": "ipython",
    "version": 3
   },
   "file_extension": ".py",
   "mimetype": "text/x-python",
   "name": "python",
   "nbconvert_exporter": "python",
   "pygments_lexer": "ipython3",
   "version": "3.7.4"
  }
 },
 "nbformat": 4,
 "nbformat_minor": 2
}
