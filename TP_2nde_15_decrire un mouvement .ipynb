{
 "cells": [
  {
   "cell_type": "markdown",
   "metadata": {},
   "source": [
    " <img src=\"logo.jpg\" alt=\"photo\"/> "
   ]
  },
  {
   "cell_type": "markdown",
   "metadata": {},
   "source": [
    "# Comment fonctionne un fichier Jupyter Notebook ?\n",
    "Le document que vous consultez est un notebook Jupyter. \n",
    "Il ne s'agit pas d'une page statique, mais d'un environnement interactif qui vous permet d'écrire et d'exécuter du code en Python ou dans un autre langage.\n",
    "\n",
    "Voici par exemple ci-dessous une cellule de code. Elle se reconnait car elle est sur fond gris avec une indication Entrée ou In sur le côté gauche. \n",
    "A l'intérieur il y a un bref script en Python qui calcule une valeur, l'enregistre dans une variable (duree) et imprime (affiche) le résultat."
   ]
  },
  {
   "cell_type": "code",
   "execution_count": null,
   "metadata": {},
   "outputs": [],
   "source": [
    "duree = 60*60*60\n",
    "print (\"il y a\",duree,\"secondes dans une heure\")"
   ]
  },
  {
   "cell_type": "markdown",
   "metadata": {},
   "source": [
    "<div class=\"alert alert-warning\">\n",
    "<b>Travail à faire : </b> Exécuter le code dans la cellule ci-dessus, pour cela sélectionner-le en cliquant sur la cellule, puis cliquer sur le bouton Run (ou Exécuter) en haut de la page ou bien en cliquant sur la flèche à côté de In (ou Entrée) pour les smartphones\n",
    "</div>\n",
    "\n",
    "<div class=\"alert alert-warning\">\n",
    "<b>Travail à faire : </b> Vous pouvez maintenant modifer ce code : changer le calcul et/ou le texte. Puis exécuter de nouveau le code, et visualiser le résultat. Si un message d'erreur s'afficher, chercher l'erreur, modifier puis exécuter.\n",
    "</div>"
   ]
  },
  {
   "cell_type": "markdown",
   "metadata": {},
   "source": [
    "Vous avez compris comment fonctionne un Jupyter Notebook. Commençons maintenant le TP."
   ]
  },
  {
   "cell_type": "markdown",
   "metadata": {},
   "source": [
    "# Tracé de la trajectoire du point M du TP"
   ]
  },
  {
   "cell_type": "markdown",
   "metadata": {},
   "source": [
    "<font color=\"red\">ATTENTION : Le code ne sera modifié qu'au seul endroit noté :  ---A compléter---'</font>"
   ]
  },
  {
   "cell_type": "markdown",
   "metadata": {},
   "source": [
    "Vous devez représenter les positions successives du point M modélisant le système, dans le réferentiel (Ox,Oy).\n",
    "La fonction nuage de point est définie ci-dessous.\n",
    "<div class=\"alert alert-warning\">\n",
    "<b>Travail à faire : </b> Compléter le code principal dans la cellule ci-dessous (à l'endroit ---A compéter---) pour tracer la trajectoire y=f(x) et exécuter le code\n",
    "</div>\n",
    "\n",
    "<details>\n",
    "<summary>Aide</summary>\n",
    "<p>Vous devez compléter abscisse et ordonnée dans la fonction nuage de point. A vous de réfléchir : en abscisse doit-on mettre x, y, ou t ? idem en ordonnée</p>\n",
    "</details>"
   ]
  },
  {
   "cell_type": "code",
   "execution_count": null,
   "metadata": {},
   "outputs": [],
   "source": [
    "import matplotlib.pyplot as plt\n",
    "\n",
    "def nuagedepoints(abscisse,ordonnee,xtitle,ytitle,title):\n",
    "    plt.plot(abscisse, ordonnee, linestyle=\"none\" ,marker=\"x\" ,color=\"red\", markersize=\"10\", label=\"nuage de points\")\n",
    "                  # nuage de points,'none' points non reliés,'x' forme des points (o,-,+,s)\n",
    "                            # 'red' couleur (blue, green, cyan, magenta, yellow, black)\n",
    "                            # '10' taille des points\n",
    "                            # affiche la légende\n",
    "    plt.xlabel(xtitle)      # légende axe des abscisses\n",
    "    plt.ylabel(ytitle)      # légende axe des ordonnées\n",
    "    plt.title(title)        # affiche titre\n",
    "\n",
    "#code principal\n",
    "x = [0,2,4,6,8] # valeurs des abscisses (en m)\n",
    "y = [1,1,1,1,1]  # valeurs des ordonnées (en m)\n",
    "t = [0,1,2,3,4]  # valeurs des dates (en s)\n",
    "nuagedepoints(---A compléter---,\"abscisse du point M\",\"ordonnée du point M\",\"trajectoire du point M\")\n",
    "plt.legend() #affiche les labels\n",
    "plt.grid()\n",
    "plt.show() #affiche le graphique"
   ]
  },
  {
   "cell_type": "markdown",
   "metadata": {},
   "source": [
    "###### Appeller le professeur pour lui faire vérifier votre résultat "
   ]
  },
  {
   "cell_type": "markdown",
   "metadata": {},
   "source": [
    "# Tracé des vecteurs vitesses"
   ]
  },
  {
   "cell_type": "markdown",
   "metadata": {},
   "source": [
    "Voici ci-dessous le code source Python de la fonction permettant de représenter le vecteur vitesse instantanée approché  au point Mi de coordonnées (xi, 1).\n",
    "Pour représenter un vecteur, nous utilisons la fonction quiver du module matplotlib.pyplot. Elle permet de représenter au point de coordonnées (X,Y) un vecteur de coordonnées (U,V) avec la syntaxe : plt.quiver(X, Y, U, V)\n",
    "\n",
    "Par exemple, plt.quiver (2,1,4,0) trace au point de coordonnées (2,1) un vecteur de coordonnées (4,0)\n",
    "<div class=\"alert alert-warning\">\n",
    "<b>Travail à faire : </b> Exécuter le code ci-dessous et observer le vecteur tracé.\n",
    "</div>\n",
    "\n"
   ]
  },
  {
   "cell_type": "code",
   "execution_count": null,
   "metadata": {},
   "outputs": [],
   "source": [
    "def vecteur_vitesse (x,t,i):\n",
    "    vi=(x[i+1]-x[i])/(t[i+1]-t[i])\n",
    "    plt.quiver(x[i],1,vi,0,scale_units='xy',angles='xy', scale=2) #pour agrandir la flèche diminuer la valeur de scale\n",
    "\n",
    "#code principal\n",
    "nuagedepoints(x,y,\"abscisse du point M\",\"ordonnée du point M\",\"trajectoire du point M\")\n",
    "vecteur_vitesse (x,t,3)"
   ]
  },
  {
   "cell_type": "markdown",
   "metadata": {},
   "source": [
    "<div class=\"alert alert-warning\">\n",
    "<b>Travail à faire : </b> Vérfier que le code ci-dessus est en accord avec votre réponse à la question 13 du TP.\n",
    "</div>\n",
    "    \n",
    "<details>\n",
    "<summary>Aide</summary>\n",
    "<p>vérfier que la relation obtenue pour la fonction vecteur_vitesse pour i=3 est identique à l'expression de la vitesse déterminée dans la question 13</p>\n",
    "</details>"
   ]
  },
  {
   "cell_type": "markdown",
   "metadata": {},
   "source": [
    "##### Appeller le professeur pour lui expliquer cet accord"
   ]
  },
  {
   "cell_type": "markdown",
   "metadata": {},
   "source": [
    "<div class=\"alert alert-warning\">\n",
    "<b>Travail à faire : </b> Compléter le code ci-dessous pour tracer le vecteur vitesse instantannée approchée v1.\n",
    "</div>\n",
    "<details>\n",
    "<summary>Aide</summary>\n",
    "<p>compléter la fonction nuage de point pour i=1 </p>\n",
    "</details>"
   ]
  },
  {
   "cell_type": "code",
   "execution_count": null,
   "metadata": {},
   "outputs": [],
   "source": [
    "nuagedepoints(x,y,\"abscisse du point M\",\"ordonnée du point M\",\"trajectoire du point M\")\n",
    "vecteur_vitesse (x,t,---A compléter---)"
   ]
  },
  {
   "cell_type": "markdown",
   "metadata": {},
   "source": [
    "###### Appeller le professeur pour lui faire vérifier votre résultat "
   ]
  },
  {
   "cell_type": "markdown",
   "metadata": {},
   "source": [
    "<div class=\"alert alert-warning\">\n",
    "<b>Travail à faire : </b> Ajouter ci-dessous une boucle for pour qu'automatiquement le code trace les vecteurs vitesses de 1 à 4.\n",
    "</div>\n",
    "<details>\n",
    "<summary>Aide</summary>\n",
    "<p>i va varier de 1 à 3, utiliser range (0,4) </p>\n",
    "</details>"
   ]
  },
  {
   "cell_type": "code",
   "execution_count": null,
   "metadata": {},
   "outputs": [],
   "source": [
    "nuagedepoints(x,y,\"abscisse du point M\",\"ordonnée du point M\",\"trajectoire du point M\")\n",
    "for i in ---A compléter---"
   ]
  },
  {
   "cell_type": "markdown",
   "metadata": {},
   "source": [
    "<br>\n",
    "<div class=\"alert alert-warning\">\n",
    "<b>Travail à faire : </b> Modifier dans le code ci-dessous les valeurs de l'abscisse x du point M afin d’obtenir un mouvement rectiligne accéléré. Faire plusieurs essais en modifiant et exécutant le code.\n",
    "</div>"
   ]
  },
  {
   "cell_type": "code",
   "execution_count": null,
   "metadata": {},
   "outputs": [],
   "source": [
    "#code principal\n",
    "x = [0,2,4,6,8] # valeurs des abscisses (en m)\n",
    "y = [1,1,1,1,1]  # valeurs des ordonnées (en m)\n",
    "t = [0,1,2,3,4]  # valeurs des dates (en s)\n",
    "nuagedepoints(x,y,\"abscisse du point M\",\"ordonnée du point M\",\"trajectoire du point M\")\n",
    "plt.legend() #affiche les labels\n",
    "plt.grid()\n",
    "plt.show() #affiche le graphique\n"
   ]
  },
  {
   "cell_type": "markdown",
   "metadata": {},
   "source": [
    "<div class=\"alert alert-warning\">\n",
    "<b>Travail à faire : </b> Ajouter une boucle for ci-dessous pour tracer tous les vecteurs vitesse instantannée sur cette nouvelle trajectoire.\n",
    "</div>\n"
   ]
  },
  {
   "cell_type": "code",
   "execution_count": null,
   "metadata": {},
   "outputs": [],
   "source": [
    "nuagedepoints(x,y,\"abscisse du point M\",\"ordonnée du point M\",\"trajectoire du point M\")\n",
    "for i in "
   ]
  }
 ],
 "metadata": {
  "kernelspec": {
   "display_name": "Python 3",
   "language": "python",
   "name": "python3"
  },
  "language_info": {
   "codemirror_mode": {
    "name": "ipython",
    "version": 3
   },
   "file_extension": ".py",
   "mimetype": "text/x-python",
   "name": "python",
   "nbconvert_exporter": "python",
   "pygments_lexer": "ipython3",
   "version": "3.7.4"
  }
 },
 "nbformat": 4,
 "nbformat_minor": 2
}
